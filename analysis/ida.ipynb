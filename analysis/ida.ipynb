{
 "cells": [
  {
   "cell_type": "code",
   "execution_count": 2,
   "id": "dd063056",
   "metadata": {},
   "outputs": [
    {
     "name": "stdout",
     "output_type": "stream",
     "text": [
      "<class 'pandas.core.frame.DataFrame'>\n",
      "RangeIndex: 20640 entries, 0 to 20639\n",
      "Data columns (total 10 columns):\n",
      " #   Column              Non-Null Count  Dtype  \n",
      "---  ------              --------------  -----  \n",
      " 0   longitude           20640 non-null  float64\n",
      " 1   latitude            20640 non-null  float64\n",
      " 2   housing_median_age  20640 non-null  float64\n",
      " 3   total_rooms         20640 non-null  float64\n",
      " 4   total_bedrooms      20433 non-null  float64\n",
      " 5   population          20640 non-null  float64\n",
      " 6   households          20640 non-null  float64\n",
      " 7   median_income       20640 non-null  float64\n",
      " 8   median_house_value  20640 non-null  float64\n",
      " 9   ocean_proximity     20640 non-null  object \n",
      "dtypes: float64(9), object(1)\n",
      "memory usage: 1.6+ MB\n",
      "✅ Saved housing_train.csv and housing_test.csv\n"
     ]
    }
   ],
   "source": [
    "# 📓 ida.ipynb – Initial Data Analysis\n",
    "\n",
    "# --- Imports ---\n",
    "import pandas as pd\n",
    "import matplotlib.pyplot as plt\n",
    "import numpy as np\n",
    "from sklearn.model_selection import StratifiedShuffleSplit\n",
    "import os\n",
    "\n",
    "# --- Load the raw housing dataset ---\n",
    "housing = pd.read_csv(\"../data/raw/housing.csv\")\n",
    "\n",
    "# --- Quick overview ---\n",
    "housing.info()\n",
    "housing.describe()\n",
    "housing[\"ocean_proximity\"].value_counts()\n",
    "\n",
    "# --- Create income category attribute for stratified sampling ---\n",
    "housing[\"income_cat\"] = pd.cut(\n",
    "    housing[\"median_income\"],\n",
    "    bins=[0., 1.5, 3.0, 4.5, 6., np.inf],\n",
    "    labels=[1, 2, 3, 4, 5]\n",
    ")\n",
    "\n",
    "# --- Stratified Split into Train/Test Sets ---\n",
    "split = StratifiedShuffleSplit(n_splits=1, test_size=0.2, random_state=42)\n",
    "for train_idx, test_idx in split.split(housing, housing[\"income_cat\"]):\n",
    "    strat_train_set = housing.loc[train_idx].drop(\"income_cat\", axis=1)\n",
    "    strat_test_set = housing.loc[test_idx].drop(\"income_cat\", axis=1)\n",
    "\n",
    "# --- Save raw train/test CSVs ---\n",
    "os.makedirs(\"../data/train\", exist_ok=True)\n",
    "os.makedirs(\"../data/test\", exist_ok=True)\n",
    "\n",
    "strat_train_set.to_csv(\"../data/train/housing_train.csv\", index=False)\n",
    "strat_test_set.to_csv(\"../data/test/housing_test.csv\", index=False)\n",
    "\n",
    "print(\"✅ Saved housing_train.csv and housing_test.csv\")"
   ]
  },
  {
   "cell_type": "code",
   "execution_count": null,
   "id": "0574ad3a",
   "metadata": {},
   "outputs": [],
   "source": []
  }
 ],
 "metadata": {
  "kernelspec": {
   "display_name": "base",
   "language": "python",
   "name": "python3"
  },
  "language_info": {
   "codemirror_mode": {
    "name": "ipython",
    "version": 3
   },
   "file_extension": ".py",
   "mimetype": "text/x-python",
   "name": "python",
   "nbconvert_exporter": "python",
   "pygments_lexer": "ipython3",
   "version": "3.12.7"
  }
 },
 "nbformat": 4,
 "nbformat_minor": 5
}
