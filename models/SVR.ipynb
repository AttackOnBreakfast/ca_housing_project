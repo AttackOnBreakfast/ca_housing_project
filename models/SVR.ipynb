{
 "cells": [
  {
   "cell_type": "code",
   "execution_count": 1,
   "id": "2a9184e3",
   "metadata": {},
   "outputs": [
    {
     "name": "stdout",
     "output_type": "stream",
     "text": [
      "Cross-validation RMSE scores: [120715.46978119 116631.86305519 118635.52928849 117150.90794416\n",
      " 117735.67595264]\n",
      "Average RMSE: 118173.88920433349\n",
      "Best parameters: {'C': 10, 'epsilon': 0.2, 'kernel': 'linear'}\n",
      "✅ Model saved to models/svr_model.pkl\n"
     ]
    }
   ],
   "source": [
    "# 📈 Support Vector Regression – California Housing\n",
    "\n",
    "# 📁 1. Data Loading\n",
    "import pandas as pd\n",
    "from sklearn.svm import SVR\n",
    "from sklearn.model_selection import cross_val_score, GridSearchCV\n",
    "import joblib\n",
    "\n",
    "# Load preprocessed training data\n",
    "df = pd.read_csv(\"../data/train/housing_train_processed.csv\")\n",
    "X = df.drop(\"median_house_value\", axis=1)\n",
    "y = df[\"median_house_value\"]\n",
    "\n",
    "# 🤖 2. Model Fitting\n",
    "svr_reg = SVR(kernel=\"rbf\")\n",
    "svr_reg.fit(X, y)\n",
    "\n",
    "# 🧪 3. Cross-Validation\n",
    "scores = cross_val_score(svr_reg, X, y, scoring=\"neg_mean_squared_error\", cv=5)\n",
    "rmse_scores = (-scores) ** 0.5\n",
    "\n",
    "print(\"Cross-validation RMSE scores:\", rmse_scores)\n",
    "print(\"Average RMSE:\", rmse_scores.mean())\n",
    "\n",
    "# 🔍 4. Hyperparameter Tuning\n",
    "param_grid = {\n",
    "    \"kernel\": [\"linear\", \"rbf\"],\n",
    "    \"C\": [1, 10],\n",
    "    \"epsilon\": [0.1, 0.2]\n",
    "}\n",
    "grid_search = GridSearchCV(SVR(), param_grid, cv=3,\n",
    "                           scoring=\"neg_mean_squared_error\", n_jobs=-1)\n",
    "\n",
    "grid_search.fit(X, y)\n",
    "best_svr = grid_search.best_estimator_\n",
    "\n",
    "print(\"Best parameters:\", grid_search.best_params_)\n",
    "\n",
    "# 💾 5. Model Saving\n",
    "joblib.dump(best_svr, \"../models/svr_model.pkl\")\n",
    "print(\"✅ Model saved to models/svr_model.pkl\")"
   ]
  },
  {
   "cell_type": "code",
   "execution_count": null,
   "id": "a9c6a0a3",
   "metadata": {},
   "outputs": [],
   "source": []
  }
 ],
 "metadata": {
  "kernelspec": {
   "display_name": "base",
   "language": "python",
   "name": "python3"
  },
  "language_info": {
   "codemirror_mode": {
    "name": "ipython",
    "version": 3
   },
   "file_extension": ".py",
   "mimetype": "text/x-python",
   "name": "python",
   "nbconvert_exporter": "python",
   "pygments_lexer": "ipython3",
   "version": "3.12.7"
  }
 },
 "nbformat": 4,
 "nbformat_minor": 5
}
