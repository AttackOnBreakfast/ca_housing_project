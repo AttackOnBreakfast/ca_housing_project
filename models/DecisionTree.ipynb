{
 "cells": [
  {
   "cell_type": "code",
   "execution_count": 1,
   "id": "076c10c7",
   "metadata": {},
   "outputs": [
    {
     "name": "stdout",
     "output_type": "stream",
     "text": [
      "Cross-validation RMSE scores: [67952.75771091 67807.23997178 68905.54664003 68492.09764736\n",
      " 69894.31839668]\n",
      "Average RMSE: 68610.3920733527\n",
      "Best parameters: {'max_depth': 10, 'min_samples_split': 10}\n",
      "✅ Model saved to models/decision_tree_model.pkl\n"
     ]
    }
   ],
   "source": [
    "# 🌳 Decision Tree – California Housing\n",
    "\n",
    "# 📁 1. Data Loading\n",
    "import pandas as pd\n",
    "from sklearn.tree import DecisionTreeRegressor\n",
    "from sklearn.model_selection import cross_val_score, GridSearchCV\n",
    "import joblib\n",
    "\n",
    "# Load preprocessed dataset\n",
    "df = pd.read_csv(\"../data/train/housing_train_processed.csv\")\n",
    "X = df.drop(\"median_house_value\", axis=1)\n",
    "y = df[\"median_house_value\"]\n",
    "\n",
    "# 🤖 2. Model Fitting\n",
    "tree_reg = DecisionTreeRegressor(random_state=42)\n",
    "tree_reg.fit(X, y)\n",
    "\n",
    "# 🧪 3. Cross-Validation\n",
    "scores = cross_val_score(tree_reg, X, y, scoring=\"neg_mean_squared_error\", cv=5)\n",
    "rmse_scores = (-scores) ** 0.5\n",
    "\n",
    "print(\"Cross-validation RMSE scores:\", rmse_scores)\n",
    "print(\"Average RMSE:\", rmse_scores.mean())\n",
    "\n",
    "# 🔍 4. Hyperparameter Tuning\n",
    "param_grid = {\n",
    "    \"max_depth\": [5, 10, 20, None],\n",
    "    \"min_samples_split\": [2, 5, 10]\n",
    "}\n",
    "grid_search = GridSearchCV(DecisionTreeRegressor(random_state=42), param_grid, cv=5,\n",
    "                           scoring=\"neg_mean_squared_error\", return_train_score=True)\n",
    "\n",
    "grid_search.fit(X, y)\n",
    "best_tree = grid_search.best_estimator_\n",
    "\n",
    "print(\"Best parameters:\", grid_search.best_params_)\n",
    "\n",
    "# 💾 5. Model Saving\n",
    "joblib.dump(best_tree, \"../models/decision_tree_model.pkl\")\n",
    "print(\"✅ Model saved to models/decision_tree_model.pkl\")"
   ]
  },
  {
   "cell_type": "code",
   "execution_count": null,
   "id": "1c9460b5",
   "metadata": {},
   "outputs": [],
   "source": []
  }
 ],
 "metadata": {
  "kernelspec": {
   "display_name": "base",
   "language": "python",
   "name": "python3"
  },
  "language_info": {
   "codemirror_mode": {
    "name": "ipython",
    "version": 3
   },
   "file_extension": ".py",
   "mimetype": "text/x-python",
   "name": "python",
   "nbconvert_exporter": "python",
   "pygments_lexer": "ipython3",
   "version": "3.12.7"
  }
 },
 "nbformat": 4,
 "nbformat_minor": 5
}
