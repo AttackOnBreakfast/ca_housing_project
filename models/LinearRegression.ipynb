{
 "cells": [
  {
   "cell_type": "code",
   "execution_count": 1,
   "id": "ab978231",
   "metadata": {},
   "outputs": [
    {
     "name": "stdout",
     "output_type": "stream",
     "text": [
      "Cross-validation RMSE scores: [68864.86412522 68174.85986952 67996.75813918 68657.57383387\n",
      " 67968.91105469]\n",
      "Average RMSE: 68332.59340449455\n",
      "No hyperparameters to tune for LinearRegression.\n",
      "✅ Model saved to models/linear_regression_model.pkl\n"
     ]
    }
   ],
   "source": [
    "# 📊 Linear Regression – California Housing\n",
    "\n",
    "# 📁 1. Data Loading\n",
    "import pandas as pd\n",
    "from sklearn.model_selection import cross_val_score\n",
    "from sklearn.linear_model import LinearRegression\n",
    "import joblib\n",
    "\n",
    "# Load preprocessed dataset (24 features)\n",
    "data_path = \"../data/train/housing_train_processed.csv\"\n",
    "df = pd.read_csv(data_path)\n",
    "\n",
    "# Separate features and target\n",
    "X = df.drop(\"median_house_value\", axis=1)\n",
    "y = df[\"median_house_value\"]\n",
    "\n",
    "# 🤖 2. Model Fitting\n",
    "lin_reg = LinearRegression()\n",
    "lin_reg.fit(X, y)\n",
    "\n",
    "# 🧪 3. Cross-Validation\n",
    "scores = cross_val_score(lin_reg, X, y, scoring=\"neg_mean_squared_error\", cv=5)\n",
    "rmse_scores = (-scores)**0.5\n",
    "\n",
    "print(\"Cross-validation RMSE scores:\", rmse_scores)\n",
    "print(\"Average RMSE:\", rmse_scores.mean())\n",
    "\n",
    "# 🛠️ 4. Hyperparameter Tuning\n",
    "# Note: LinearRegression has no hyperparameters to tune, but this section is required.\n",
    "print(\"No hyperparameters to tune for LinearRegression.\")\n",
    "\n",
    "# 💾 5. Model Saving\n",
    "joblib.dump(lin_reg, \"../models/linear_regression_model.pkl\")\n",
    "print(\"✅ Model saved to models/linear_regression_model.pkl\")"
   ]
  },
  {
   "cell_type": "code",
   "execution_count": null,
   "id": "1311c7e0",
   "metadata": {},
   "outputs": [],
   "source": []
  }
 ],
 "metadata": {
  "kernelspec": {
   "display_name": "base",
   "language": "python",
   "name": "python3"
  },
  "language_info": {
   "codemirror_mode": {
    "name": "ipython",
    "version": 3
   },
   "file_extension": ".py",
   "mimetype": "text/x-python",
   "name": "python",
   "nbconvert_exporter": "python",
   "pygments_lexer": "ipython3",
   "version": "3.12.7"
  }
 },
 "nbformat": 4,
 "nbformat_minor": 5
}
