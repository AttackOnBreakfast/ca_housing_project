{
 "cells": [
  {
   "cell_type": "code",
   "execution_count": 1,
   "id": "d0910410",
   "metadata": {},
   "outputs": [
    {
     "name": "stdout",
     "output_type": "stream",
     "text": [
      "Cross-validation RMSE scores: [49464.37245837 48957.41055168 49273.50871464 49645.46563933\n",
      " 49741.01435692]\n",
      "Average RMSE: 49416.35434418591\n",
      "Best parameters: {'max_depth': None, 'max_features': 'sqrt', 'n_estimators': 100}\n",
      "✅ Model saved to models/random_forest_model.pkl\n"
     ]
    }
   ],
   "source": [
    "# 🌲 Random Forest – California Housing\n",
    "\n",
    "# 📁 1. Data Loading\n",
    "import pandas as pd\n",
    "from sklearn.ensemble import RandomForestRegressor\n",
    "from sklearn.model_selection import cross_val_score, GridSearchCV\n",
    "import joblib\n",
    "\n",
    "# Load preprocessed data\n",
    "df = pd.read_csv(\"../data/train/housing_train_processed.csv\")\n",
    "X = df.drop(\"median_house_value\", axis=1)\n",
    "y = df[\"median_house_value\"]\n",
    "\n",
    "# 🤖 2. Model Fitting\n",
    "rf_reg = RandomForestRegressor(n_estimators=100, random_state=42)\n",
    "rf_reg.fit(X, y)\n",
    "\n",
    "# 🧪 3. Cross-Validation\n",
    "scores = cross_val_score(rf_reg, X, y, scoring=\"neg_mean_squared_error\", cv=5)\n",
    "rmse_scores = (-scores) ** 0.5\n",
    "\n",
    "print(\"Cross-validation RMSE scores:\", rmse_scores)\n",
    "print(\"Average RMSE:\", rmse_scores.mean())\n",
    "\n",
    "# 🔍 4. Hyperparameter Tuning\n",
    "param_grid = {\n",
    "    \"n_estimators\": [50, 100],\n",
    "    \"max_depth\": [10, 20, None],\n",
    "    \"max_features\": [\"sqrt\", \"log2\"]\n",
    "}\n",
    "grid_search = GridSearchCV(RandomForestRegressor(random_state=42), param_grid, cv=3,\n",
    "                           scoring=\"neg_mean_squared_error\", n_jobs=-1)\n",
    "\n",
    "grid_search.fit(X, y)\n",
    "best_rf = grid_search.best_estimator_\n",
    "\n",
    "print(\"Best parameters:\", grid_search.best_params_)\n",
    "\n",
    "# 💾 5. Model Saving\n",
    "joblib.dump(best_rf, \"../models/random_forest_model.pkl\")\n",
    "print(\"✅ Model saved to models/random_forest_model.pkl\")"
   ]
  },
  {
   "cell_type": "code",
   "execution_count": null,
   "id": "4f73bc4f",
   "metadata": {},
   "outputs": [],
   "source": []
  }
 ],
 "metadata": {
  "kernelspec": {
   "display_name": "base",
   "language": "python",
   "name": "python3"
  },
  "language_info": {
   "codemirror_mode": {
    "name": "ipython",
    "version": 3
   },
   "file_extension": ".py",
   "mimetype": "text/x-python",
   "name": "python",
   "nbconvert_exporter": "python",
   "pygments_lexer": "ipython3",
   "version": "3.12.7"
  }
 },
 "nbformat": 4,
 "nbformat_minor": 5
}
